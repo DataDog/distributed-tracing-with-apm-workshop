{
 "cells": [
  {
   "cell_type": "markdown",
   "metadata": {},
   "source": [
    "# Distributed Tracing with Datadog APM\n",
    "\n",
    "Welcome to the Distributed Tracing with APM workshop! \n",
    "\n",
    "This repo contains a \"dummy\" microservices project, with a single page web application, ready to be instrumented and analyzed using Datadog's APM.\n",
    "\n",
    "Using features like the Service Map and Trace Search, we'll see how a APM can help alleviate some of the complexity of writing and deploying code for distributed systems.\n",
    "\n",
    "![Dashboard Image](images/service-map.png)\n",
    "\n",
    "The code itself is run using `docker-compose`, which should now be bundled with [Windows](https://store.docker.com/editions/community/docker-ce-desktop-windows) and [MacOS](https://store.docker.com/editions/community/docker-ce-desktop-mac) versions of Docker. \n",
    "\n",
    "On Linux, Docker can be installed with your preferred method, and `docker-compose` should be available via a `pip install docker-compose`.\n",
    "\n",
    "Using Docker allows us to set up multiple microservices locally, giving us an environment to rapidly build, test, and instrument our demo distributed system.\n",
    "\n",
    "[I've](http://www.twitter.com/burningion) worked hard to make this workshop as helpful possible, but if you see something that could be improved, please feel free to create a [Github issue](https://github.com/burningion/distributed-tracing-with-apm-workshop) on the repo. "
   ]
  },
  {
   "cell_type": "markdown",
   "metadata": {},
   "source": [
    "# Getting Started \n",
    "\n",
    "The first thing you'll want to do is create a [Datadog account](https://www.datadoghq.com), and download this repo. \n",
    "\n",
    "You'll then want to do a `docker-compose up`, using the new API key from your trial account.\n",
    "\n",
    "Your command should look like the following on MacOS/Linux:\n",
    "\n",
    "```bash\n",
    "$ POSTGRES_USER=postgres POSTGRES_PASSWORD=<pg password> DD_API_KEY=<api key> docker-compose up\n",
    "```\n",
    "\n",
    "For Windows, the process of setting environment variables is a bit different:\n",
    "\n",
    "```\n",
    "PS C:\\dev> $env:POSTGRES_USER=postgres\n",
    "PS C:\\dev> $env:POSTGRES_PASSWORD=<pg password>\n",
    "PS C:\\dev> $env:DD_API_KEY=<YOUR_API_KEY>\n",
    "PS C:\\dev> docker-compose up\n",
    "```\n",
    "\n",
    "With the command run, you should see Docker start pulling down container images for the code. Afterwards, you'll be able to go to [http://localhost:5000/](http://localhost:5000/) and see the single page web app.\n",
    "\n",
    "![Single Page App](images/dashboard.png)"
   ]
  },
  {
   "cell_type": "code",
   "execution_count": null,
   "metadata": {},
   "outputs": [],
   "source": []
  }
 ],
 "metadata": {
  "kernelspec": {
   "display_name": "Python 3",
   "language": "python",
   "name": "python3"
  },
  "language_info": {
   "codemirror_mode": {
    "name": "ipython",
    "version": 2
   },
   "file_extension": ".py",
   "mimetype": "text/x-python",
   "name": "python",
   "nbconvert_exporter": "python",
   "pygments_lexer": "ipython2",
   "version": "2.7.15"
  }
 },
 "nbformat": 4,
 "nbformat_minor": 2
}
